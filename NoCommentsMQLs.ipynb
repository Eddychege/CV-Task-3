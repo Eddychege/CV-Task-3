{
  "nbformat": 4,
  "nbformat_minor": 0,
  "metadata": {
    "colab": {
      "provenance": [],
      "authorship_tag": "ABX9TyPgn3Nxop3gBVdf6/0EWxNF",
      "include_colab_link": true
    },
    "kernelspec": {
      "name": "python3",
      "display_name": "Python 3"
    },
    "language_info": {
      "name": "python"
    }
  },
  "cells": [
    {
      "cell_type": "markdown",
      "metadata": {
        "id": "view-in-github",
        "colab_type": "text"
      },
      "source": [
        "<a href=\"https://colab.research.google.com/github/Eddychege/CV-Task-3/blob/main/NoCommentsMQLs.ipynb\" target=\"_parent\"><img src=\"https://colab.research.google.com/assets/colab-badge.svg\" alt=\"Open In Colab\"/></a>"
      ]
    },
    {
      "cell_type": "code",
      "execution_count": 2,
      "metadata": {
        "id": "ftkTRhDWfDOh"
      },
      "outputs": [],
      "source": [
        "import pandas as pd\n",
        "df = pd.read_csv(\"/content/MQLs - Q2 '25 MQLs.csv\")"
      ]
    },
    {
      "cell_type": "code",
      "source": [
        "print(df.columns)"
      ],
      "metadata": {
        "colab": {
          "base_uri": "https://localhost:8080/"
        },
        "id": "ZIrDxRZ5fexF",
        "outputId": "e36619a7-7f49-4619-f192-8d45adb865d8"
      },
      "execution_count": 3,
      "outputs": [
        {
          "output_type": "stream",
          "name": "stdout",
          "text": [
            "Index([' ', 'First Name', 'Second Name', 'Email', 'Phone Number', 'Insurer',\n",
            "       '\\', 'Sales Exec', 'Status', 'Conversion'],\n",
            "      dtype='object')\n"
          ]
        }
      ]
    },
    {
      "cell_type": "code",
      "source": [
        "mql_no_comments = df[df['Status'].isna() | (df['Status'] == '')]"
      ],
      "metadata": {
        "id": "ZB1SE9oIfwfx"
      },
      "execution_count": 4,
      "outputs": []
    },
    {
      "cell_type": "code",
      "source": [
        "count_by_sales_exec = mql_no_comments['Sales Exec'].value_counts()"
      ],
      "metadata": {
        "id": "8s-nOhaUhZVS"
      },
      "execution_count": 5,
      "outputs": []
    },
    {
      "cell_type": "code",
      "source": [
        "print(\"Number of MQLs with no comments, by Sales Executive:\")\n",
        "print(count_by_sales_exec)"
      ],
      "metadata": {
        "colab": {
          "base_uri": "https://localhost:8080/"
        },
        "id": "gMaaeZz8hiDH",
        "outputId": "c4f6e4d7-600f-425b-9ae0-e3dea5513ed2"
      },
      "execution_count": 6,
      "outputs": [
        {
          "output_type": "stream",
          "name": "stdout",
          "text": [
            "Number of MQLs with no comments, by Sales Executive:\n",
            "Sales Exec\n",
            "Yvonne       24\n",
            "Dalphine      5\n",
            "Name: count, dtype: int64\n"
          ]
        }
      ]
    },
    {
      "cell_type": "code",
      "source": [
        "count_by_sales_exec.to_csv('mqls_no_comments_counts_by_sales_exec.csv', header=True)\n",
        "\n",
        "print(\"\\nCounts saved to 'mqls_no_comments_counts_by_sales_exec.csv'\")"
      ],
      "metadata": {
        "colab": {
          "base_uri": "https://localhost:8080/"
        },
        "id": "7YVrxmephtJd",
        "outputId": "03cc5623-8eef-4cd8-ae53-ff37223c99aa"
      },
      "execution_count": 7,
      "outputs": [
        {
          "output_type": "stream",
          "name": "stdout",
          "text": [
            "\n",
            "Counts saved to 'mqls_no_comments_counts_by_sales_exec.csv'\n"
          ]
        }
      ]
    },
    {
      "cell_type": "code",
      "source": [
        "\n",
        "mql_no_comments.to_csv('detailed_mqls_no_comments.csv', index=False)\n",
        "\n",
        "print(\"\\nDetailed MQLs with no comments saved to 'detailed_mqls_no_comments.csv'\")"
      ],
      "metadata": {
        "colab": {
          "base_uri": "https://localhost:8080/"
        },
        "id": "-n3Lq-8CiOeg",
        "outputId": "500d6b75-9ad1-488d-928e-217d3013c048"
      },
      "execution_count": 9,
      "outputs": [
        {
          "output_type": "stream",
          "name": "stdout",
          "text": [
            "\n",
            "Detailed MQLs with no comments saved to 'detailed_mqls_no_comments.csv'\n"
          ]
        }
      ]
    },
    {
      "cell_type": "code",
      "source": [],
      "metadata": {
        "id": "8aMwtJf7itjC"
      },
      "execution_count": null,
      "outputs": []
    }
  ]
}